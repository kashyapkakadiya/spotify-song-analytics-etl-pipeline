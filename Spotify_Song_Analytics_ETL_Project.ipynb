{
  "nbformat": 4,
  "nbformat_minor": 0,
  "metadata": {
    "colab": {
      "provenance": [],
      "authorship_tag": "ABX9TyNGtyKZstu5OqQ/oUDsGCNo",
      "include_colab_link": true
    },
    "kernelspec": {
      "name": "python3",
      "display_name": "Python 3"
    },
    "language_info": {
      "name": "python"
    }
  },
  "cells": [
    {
      "cell_type": "markdown",
      "metadata": {
        "id": "view-in-github",
        "colab_type": "text"
      },
      "source": [
        "<a href=\"https://colab.research.google.com/github/kashyapkakadiya/spotify-song-analytics-etl-pipeline/blob/main/Spotify_Song_Analytics_ETL_Project.ipynb\" target=\"_parent\"><img src=\"https://colab.research.google.com/assets/colab-badge.svg\" alt=\"Open In Colab\"/></a>"
      ]
    },
    {
      "cell_type": "markdown",
      "source": [
        "#Extract"
      ],
      "metadata": {
        "id": "qQYDsXWxqARc"
      }
    },
    {
      "cell_type": "code",
      "source": [
        "import pandas as pd\n",
        "\n",
        "df = pd.read_csv(\"/content/Most Streamed Spotify Songs 2024.csv\", encoding='ISO-8859-1')\n",
        "\n",
        "print(df.head())"
      ],
      "metadata": {
        "colab": {
          "base_uri": "https://localhost:8080/"
        },
        "id": "BRcvJqnDo6LD",
        "outputId": "7c4226f9-26b5-4c32-b789-baa1438082b6"
      },
      "execution_count": 8,
      "outputs": [
        {
          "output_type": "stream",
          "name": "stdout",
          "text": [
            "                        Track                    Album Name          Artist  \\\n",
            "0         MILLION DOLLAR BABY  Million Dollar Baby - Single   Tommy Richman   \n",
            "1                 Not Like Us                   Not Like Us  Kendrick Lamar   \n",
            "2  i like the way you kiss me    I like the way you kiss me         Artemas   \n",
            "3                     Flowers              Flowers - Single     Miley Cyrus   \n",
            "4                     Houdini                       Houdini          Eminem   \n",
            "\n",
            "  Release Date          ISRC All Time Rank  Track Score Spotify Streams  \\\n",
            "0    4/26/2024  QM24S2402528             1        725.4     390,470,936   \n",
            "1     5/4/2024  USUG12400910             2        545.9     323,703,884   \n",
            "2    3/19/2024  QZJ842400387             3        538.4     601,309,283   \n",
            "3    1/12/2023  USSM12209777             4        444.9   2,031,280,633   \n",
            "4    5/31/2024  USUG12403398             5        423.3     107,034,922   \n",
            "\n",
            "  Spotify Playlist Count Spotify Playlist Reach  ...  SiriusXM Spins  \\\n",
            "0                 30,716            196,631,588  ...             684   \n",
            "1                 28,113            174,597,137  ...               3   \n",
            "2                 54,331            211,607,669  ...             536   \n",
            "3                269,802            136,569,078  ...           2,182   \n",
            "4                  7,223            151,469,874  ...               1   \n",
            "\n",
            "  Deezer Playlist Count Deezer Playlist Reach Amazon Playlist Count  \\\n",
            "0                  62.0            17,598,718                 114.0   \n",
            "1                  67.0            10,422,430                 111.0   \n",
            "2                 136.0            36,321,847                 172.0   \n",
            "3                 264.0            24,684,248                 210.0   \n",
            "4                  82.0            17,660,624                 105.0   \n",
            "\n",
            "  Pandora Streams Pandora Track Stations Soundcloud Streams  Shazam Counts  \\\n",
            "0      18,004,655                 22,931          4,818,457      2,669,262   \n",
            "1       7,780,028                 28,444          6,623,075      1,118,279   \n",
            "2       5,022,621                  5,639          7,208,651      5,285,340   \n",
            "3     190,260,277                203,384                NaN     11,822,942   \n",
            "4       4,493,884                  7,006            207,179        457,017   \n",
            "\n",
            "  TIDAL Popularity Explicit Track  \n",
            "0              NaN              0  \n",
            "1              NaN              1  \n",
            "2              NaN              0  \n",
            "3              NaN              0  \n",
            "4              NaN              1  \n",
            "\n",
            "[5 rows x 29 columns]\n"
          ]
        }
      ]
    },
    {
      "cell_type": "markdown",
      "source": [
        "#Transformation"
      ],
      "metadata": {
        "id": "25kVGLPgqDCL"
      }
    },
    {
      "cell_type": "code",
      "source": [
        "import numpy as np\n",
        "\n",
        "# Remove commas and convert to numeric for stream and playlist columns\n",
        "numeric_cols = [\n",
        "    'Spotify Streams',\n",
        "    'Spotify Playlist Count',\n",
        "    'Spotify Playlist Reach',\n",
        "    'SiriusXM Spins',\n",
        "    'Deezer Playlist Count',\n",
        "    'Deezer Playlist Reach',\n",
        "    'Amazon Playlist Count',\n",
        "    'Pandora Streams',\n",
        "    'Pandora Track Stations',\n",
        "    'Soundcloud Streams',\n",
        "    'Shazam Counts'\n",
        "]\n",
        "\n",
        "for col in numeric_cols:\n",
        "    df[col] = df[col].replace({',': ''}, regex=True)\n",
        "    df[col] = pd.to_numeric(df[col], errors='coerce')  # Convert to float/int\n",
        "\n",
        "# Convert Release Date to datetime\n",
        "df['Release Date'] = pd.to_datetime(df['Release Date'], errors='coerce')\n",
        "\n",
        "# Standardize Explicit Track\n",
        "df['Explicit Track'] = df['Explicit Track'].fillna(0).astype(int)\n",
        "\n",
        "# Check and handle missing values (optional)\n",
        "print(df.isnull().sum())   # Print count of nulls in each column\n",
        "\n",
        "# Fill or drop missing values if needed\n",
        "df = df.dropna(subset=['Track', 'Artist', 'Spotify Streams'])  # Drop rows missing important fields\n"
      ],
      "metadata": {
        "colab": {
          "base_uri": "https://localhost:8080/"
        },
        "id": "MbV_O77OqH-7",
        "outputId": "c8ea3439-a0d3-4808-9012-47de286392ae"
      },
      "execution_count": 9,
      "outputs": [
        {
          "output_type": "stream",
          "name": "stdout",
          "text": [
            "Track                            0\n",
            "Album Name                       0\n",
            "Artist                           5\n",
            "Release Date                     0\n",
            "ISRC                             0\n",
            "All Time Rank                    0\n",
            "Track Score                      0\n",
            "Spotify Streams                113\n",
            "Spotify Playlist Count          70\n",
            "Spotify Playlist Reach          72\n",
            "Spotify Popularity             804\n",
            "YouTube Views                  308\n",
            "YouTube Likes                  315\n",
            "TikTok Posts                  1173\n",
            "TikTok Likes                   980\n",
            "TikTok Views                   981\n",
            "YouTube Playlist Reach        1009\n",
            "Apple Music Playlist Count     561\n",
            "AirPlay Spins                  498\n",
            "SiriusXM Spins                2123\n",
            "Deezer Playlist Count          921\n",
            "Deezer Playlist Reach          928\n",
            "Amazon Playlist Count         1055\n",
            "Pandora Streams               1106\n",
            "Pandora Track Stations        1268\n",
            "Soundcloud Streams            3333\n",
            "Shazam Counts                  577\n",
            "TIDAL Popularity              4600\n",
            "Explicit Track                   0\n",
            "dtype: int64\n"
          ]
        }
      ]
    },
    {
      "cell_type": "markdown",
      "source": [
        "#Filling Missing Data"
      ],
      "metadata": {
        "id": "NRqKtnEPqYm6"
      }
    },
    {
      "cell_type": "code",
      "source": [
        "# Drop rows missing key fields\n",
        "df_clean = df.dropna(subset=['Track', 'Artist', 'Spotify Streams'])\n",
        "\n",
        "# For (optionally) filling missing numbers elsewhere\n",
        "numeric_stats = [\n",
        "    'Spotify Playlist Count', 'Spotify Playlist Reach', 'Spotify Popularity',\n",
        "    'YouTube Views', 'YouTube Likes', 'TikTok Posts', 'TikTok Likes', 'TikTok Views',\n",
        "    'YouTube Playlist Reach', 'Apple Music Playlist Count', 'AirPlay Spins',\n",
        "    'SiriusXM Spins', 'Deezer Playlist Count', 'Deezer Playlist Reach',\n",
        "    'Amazon Playlist Count', 'Pandora Streams', 'Pandora Track Stations',\n",
        "    'Soundcloud Streams', 'Shazam Counts', 'TIDAL Popularity'\n",
        "]\n",
        "\n",
        "for col in numeric_stats:\n",
        "    if col in df_clean.columns:\n",
        "        df_clean[col] = df_clean[col].fillna(0)  # Fill missing with zero\n",
        "\n",
        "print(df_clean.info())  # Check that missing values are handled\n",
        "print(df_clean.head())  # Preview the cleaned data\n"
      ],
      "metadata": {
        "colab": {
          "base_uri": "https://localhost:8080/"
        },
        "id": "wGeZSy3sqZqy",
        "outputId": "e1cd1bf8-2f66-4b0a-cb93-36b80165ce65"
      },
      "execution_count": 10,
      "outputs": [
        {
          "output_type": "stream",
          "name": "stdout",
          "text": [
            "<class 'pandas.core.frame.DataFrame'>\n",
            "Index: 4487 entries, 0 to 4599\n",
            "Data columns (total 29 columns):\n",
            " #   Column                      Non-Null Count  Dtype         \n",
            "---  ------                      --------------  -----         \n",
            " 0   Track                       4487 non-null   object        \n",
            " 1   Album Name                  4487 non-null   object        \n",
            " 2   Artist                      4487 non-null   object        \n",
            " 3   Release Date                4487 non-null   datetime64[ns]\n",
            " 4   ISRC                        4487 non-null   object        \n",
            " 5   All Time Rank               4487 non-null   object        \n",
            " 6   Track Score                 4487 non-null   float64       \n",
            " 7   Spotify Streams             4487 non-null   float64       \n",
            " 8   Spotify Playlist Count      4487 non-null   float64       \n",
            " 9   Spotify Playlist Reach      4487 non-null   float64       \n",
            " 10  Spotify Popularity          4487 non-null   float64       \n",
            " 11  YouTube Views               4487 non-null   object        \n",
            " 12  YouTube Likes               4487 non-null   object        \n",
            " 13  TikTok Posts                4487 non-null   object        \n",
            " 14  TikTok Likes                4487 non-null   object        \n",
            " 15  TikTok Views                4487 non-null   object        \n",
            " 16  YouTube Playlist Reach      4487 non-null   object        \n",
            " 17  Apple Music Playlist Count  4487 non-null   float64       \n",
            " 18  AirPlay Spins               4487 non-null   object        \n",
            " 19  SiriusXM Spins              4487 non-null   float64       \n",
            " 20  Deezer Playlist Count       4487 non-null   float64       \n",
            " 21  Deezer Playlist Reach       4487 non-null   float64       \n",
            " 22  Amazon Playlist Count       4487 non-null   float64       \n",
            " 23  Pandora Streams             4487 non-null   float64       \n",
            " 24  Pandora Track Stations      4487 non-null   float64       \n",
            " 25  Soundcloud Streams          4487 non-null   float64       \n",
            " 26  Shazam Counts               4487 non-null   float64       \n",
            " 27  TIDAL Popularity            4487 non-null   float64       \n",
            " 28  Explicit Track              4487 non-null   int64         \n",
            "dtypes: datetime64[ns](1), float64(15), int64(1), object(12)\n",
            "memory usage: 1.0+ MB\n",
            "None\n",
            "                        Track                    Album Name          Artist  \\\n",
            "0         MILLION DOLLAR BABY  Million Dollar Baby - Single   Tommy Richman   \n",
            "1                 Not Like Us                   Not Like Us  Kendrick Lamar   \n",
            "2  i like the way you kiss me    I like the way you kiss me         Artemas   \n",
            "3                     Flowers              Flowers - Single     Miley Cyrus   \n",
            "4                     Houdini                       Houdini          Eminem   \n",
            "\n",
            "  Release Date          ISRC All Time Rank  Track Score  Spotify Streams  \\\n",
            "0   2024-04-26  QM24S2402528             1        725.4     3.904709e+08   \n",
            "1   2024-05-04  USUG12400910             2        545.9     3.237039e+08   \n",
            "2   2024-03-19  QZJ842400387             3        538.4     6.013093e+08   \n",
            "3   2023-01-12  USSM12209777             4        444.9     2.031281e+09   \n",
            "4   2024-05-31  USUG12403398             5        423.3     1.070349e+08   \n",
            "\n",
            "   Spotify Playlist Count  Spotify Playlist Reach  ...  SiriusXM Spins  \\\n",
            "0                 30716.0             196631588.0  ...           684.0   \n",
            "1                 28113.0             174597137.0  ...             3.0   \n",
            "2                 54331.0             211607669.0  ...           536.0   \n",
            "3                269802.0             136569078.0  ...          2182.0   \n",
            "4                  7223.0             151469874.0  ...             1.0   \n",
            "\n",
            "  Deezer Playlist Count Deezer Playlist Reach Amazon Playlist Count  \\\n",
            "0                  62.0            17598718.0                 114.0   \n",
            "1                  67.0            10422430.0                 111.0   \n",
            "2                 136.0            36321847.0                 172.0   \n",
            "3                 264.0            24684248.0                 210.0   \n",
            "4                  82.0            17660624.0                 105.0   \n",
            "\n",
            "  Pandora Streams Pandora Track Stations Soundcloud Streams  Shazam Counts  \\\n",
            "0      18004655.0                22931.0          4818457.0      2669262.0   \n",
            "1       7780028.0                28444.0          6623075.0      1118279.0   \n",
            "2       5022621.0                 5639.0          7208651.0      5285340.0   \n",
            "3     190260277.0               203384.0                0.0     11822942.0   \n",
            "4       4493884.0                 7006.0           207179.0       457017.0   \n",
            "\n",
            "  TIDAL Popularity  Explicit Track  \n",
            "0              0.0               0  \n",
            "1              0.0               1  \n",
            "2              0.0               0  \n",
            "3              0.0               0  \n",
            "4              0.0               1  \n",
            "\n",
            "[5 rows x 29 columns]\n"
          ]
        }
      ]
    },
    {
      "cell_type": "markdown",
      "source": [
        "#Load Data into SQLite"
      ],
      "metadata": {
        "id": "UNh2S7Bvt3ZD"
      }
    },
    {
      "cell_type": "code",
      "source": [
        "import sqlite3\n",
        "\n",
        "# Create a database connection (file will be created in Colab’s environment)\n",
        "conn = sqlite3.connect('spotify_songs_2024.db')\n",
        "\n",
        "# Store DataFrame in a table called \"songs\"\n",
        "df_clean.to_sql('songs', conn, index=False, if_exists='replace')\n",
        "\n",
        "# Test: Query top 5 by Spotify Streams\n",
        "query = \"SELECT Track, Artist, \\\"Spotify Streams\\\" FROM songs ORDER BY \\\"Spotify Streams\\\" DESC LIMIT 5\"\n",
        "result = pd.read_sql_query(query, conn)\n",
        "print(result)"
      ],
      "metadata": {
        "colab": {
          "base_uri": "https://localhost:8080/"
        },
        "id": "wS-pXbTVt4ZK",
        "outputId": "b64691fa-f106-42b0-dcf0-5ac47f2a28b0"
      },
      "execution_count": 13,
      "outputs": [
        {
          "output_type": "stream",
          "name": "stdout",
          "text": [
            "               Track         Artist  Spotify Streams\n",
            "0    Blinding Lights     The Weeknd     4.281469e+09\n",
            "1    Blinding Lights        xSyborg     4.261328e+09\n",
            "2       Shape of You     Ed Sheeran     3.909459e+09\n",
            "3       Shape of You        xSyborg     3.888356e+09\n",
            "4  Someone You Loved  Lewis Capaldi     3.427499e+09\n"
          ]
        }
      ]
    },
    {
      "cell_type": "markdown",
      "source": [
        "#Analytics and Querying"
      ],
      "metadata": {
        "id": "iEg3HBGvu1mC"
      }
    },
    {
      "cell_type": "markdown",
      "source": [
        "###1. Top 10 most streamed songs"
      ],
      "metadata": {
        "id": "hAZeh2Q-u4CK"
      }
    },
    {
      "cell_type": "code",
      "source": [
        "query = \"SELECT Track, Artist, \\\"Spotify Streams\\\" FROM songs ORDER BY \\\"Spotify Streams\\\" DESC LIMIT 10\"\n",
        "print(pd.read_sql_query(query, conn))"
      ],
      "metadata": {
        "colab": {
          "base_uri": "https://localhost:8080/"
        },
        "id": "kmUgoBvau7Gr",
        "outputId": "3b234326-67cd-466b-db08-f297fef046e9"
      },
      "execution_count": 15,
      "outputs": [
        {
          "output_type": "stream",
          "name": "stdout",
          "text": [
            "                                           Track         Artist  \\\n",
            "0                                Blinding Lights     The Weeknd   \n",
            "1                                Blinding Lights        xSyborg   \n",
            "2                                   Shape of You     Ed Sheeran   \n",
            "3                                   Shape of You        xSyborg   \n",
            "4                              Someone You Loved  Lewis Capaldi   \n",
            "5  Sunflower - Spider-Man: Into the Spider-Verse    Post Malone   \n",
            "6                                      As It Was   Harry Styles   \n",
            "7                                      As It Was   Harry Styles   \n",
            "8                                        Starboy     The Weeknd   \n",
            "9                                      One Dance          Drake   \n",
            "\n",
            "   Spotify Streams  \n",
            "0     4.281469e+09  \n",
            "1     4.261328e+09  \n",
            "2     3.909459e+09  \n",
            "3     3.888356e+09  \n",
            "4     3.427499e+09  \n",
            "5     3.358704e+09  \n",
            "6     3.301815e+09  \n",
            "7     3.299082e+09  \n",
            "8     3.291262e+09  \n",
            "9     3.192204e+09  \n"
          ]
        }
      ]
    },
    {
      "cell_type": "markdown",
      "source": [
        "###2. Most popular artists by total streams"
      ],
      "metadata": {
        "id": "TfMvIb_BvMaq"
      }
    },
    {
      "cell_type": "code",
      "source": [
        "query = \"\"\"\n",
        "SELECT Artist, SUM(\"Spotify Streams\") AS Total_Streams\n",
        "FROM songs\n",
        "GROUP BY Artist\n",
        "ORDER BY Total_Streams DESC\n",
        "LIMIT 10\n",
        "\"\"\"\n",
        "print(pd.read_sql_query(query, conn))"
      ],
      "metadata": {
        "colab": {
          "base_uri": "https://localhost:8080/"
        },
        "id": "qWKbRradvQTS",
        "outputId": "d11e8eab-2c01-470b-91d0-e911cb4f86bc"
      },
      "execution_count": 17,
      "outputs": [
        {
          "output_type": "stream",
          "name": "stdout",
          "text": [
            "           Artist  Total_Streams\n",
            "0       Bad Bunny   3.705483e+10\n",
            "1      The Weeknd   3.694854e+10\n",
            "2           Drake   3.496216e+10\n",
            "3    Taylor Swift   3.447077e+10\n",
            "4     Post Malone   2.613747e+10\n",
            "5      Ed Sheeran   2.401490e+10\n",
            "6   Ariana Grande   2.346499e+10\n",
            "7   MUSIC LAB JPN   2.286669e+10\n",
            "8  Olivia Rodrigo   1.972922e+10\n",
            "9          Eminem   1.887888e+10\n"
          ]
        }
      ]
    },
    {
      "cell_type": "markdown",
      "source": [
        "###3. Trends by Release Year"
      ],
      "metadata": {
        "id": "Z3Eto_40vZAk"
      }
    },
    {
      "cell_type": "code",
      "source": [
        "query = \"\"\"\n",
        "SELECT strftime('%Y', \"Release Date\") AS Year, SUM(\"Spotify Streams\") AS Yearly_Streams\n",
        "FROM songs\n",
        "GROUP BY Year\n",
        "ORDER BY Yearly_Streams DESC\n",
        "\"\"\"\n",
        "print(pd.read_sql_query(query, conn))"
      ],
      "metadata": {
        "colab": {
          "base_uri": "https://localhost:8080/"
        },
        "id": "R6vXM8R0vcUK",
        "outputId": "f3174585-c825-4ee1-e251-13445e8641ad"
      },
      "execution_count": 19,
      "outputs": [
        {
          "output_type": "stream",
          "name": "stdout",
          "text": [
            "    Year  Yearly_Streams\n",
            "0   2023    2.252458e+11\n",
            "1   2022    2.096372e+11\n",
            "2   2019    1.974695e+11\n",
            "3   2018    1.909671e+11\n",
            "4   2017    1.900873e+11\n",
            "5   2021    1.896088e+11\n",
            "6   2020    1.815467e+11\n",
            "7   2016    1.219763e+11\n",
            "8   2015    1.018258e+11\n",
            "9   2024    6.939726e+10\n",
            "10  2014    5.909972e+10\n",
            "11  2012    5.879390e+10\n",
            "12  2013    5.645939e+10\n",
            "13  2011    5.424106e+10\n",
            "14  2010    2.612400e+10\n",
            "15  2009    1.618643e+10\n",
            "16  2008    1.287115e+10\n",
            "17  2002    9.063840e+09\n",
            "18  2004    6.163006e+09\n",
            "19  2005    6.111893e+09\n",
            "20  2007    5.216023e+09\n",
            "21  2003    4.508044e+09\n",
            "22  2000    3.843533e+09\n",
            "23  2006    3.288324e+09\n",
            "24  1991    2.021910e+09\n",
            "25  1987    1.879386e+09\n",
            "26  1994    1.810650e+09\n",
            "27  1999    1.405354e+09\n",
            "28  2001    3.991452e+08\n",
            "29  1998    1.783399e+08\n"
          ]
        }
      ]
    }
  ]
}